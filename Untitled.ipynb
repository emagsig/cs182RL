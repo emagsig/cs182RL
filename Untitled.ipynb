{
 "cells": [
  {
   "cell_type": "code",
   "execution_count": 3,
   "metadata": {},
   "outputs": [
    {
     "name": "stdout",
     "output_type": "stream",
     "text": [
      "\n",
      "Note: you may need to restart the kernel to use updated packages.\n"
     ]
    },
    {
     "name": "stderr",
     "output_type": "stream",
     "text": [
      "\n",
      "SpecNotFound: Invalid name, try the format: user/package\n",
      "\n"
     ]
    },
    {
     "name": "stdout",
     "output_type": "stream",
     "text": [
      "\n",
      "C:\\Users\\evanm\\OneDrive\\Desktop\\cs182RL>if defined CONDA_BUILD_STATE () \n",
      "\n",
      "C:\\Users\\evanm\\OneDrive\\Desktop\\cs182RL>if defined MSMPI_BIN (set \"MSMPI_BIN_CONDA_BACKUP=\" ) \n",
      "\n",
      "C:\\Users\\evanm\\OneDrive\\Desktop\\cs182RL>if defined MSMPI_INC (set \"MSMPI_INC_CONDA_BACKUP=\" ) \n",
      "\n",
      "C:\\Users\\evanm\\OneDrive\\Desktop\\cs182RL>if defined MSMPI_LIB64 (set \"MSMPI_LIB64_CONDA_BACKUP=\" ) \n",
      "\n",
      "C:\\Users\\evanm\\OneDrive\\Desktop\\cs182RL>if defined MSMPI_LIB32 (set \"MSMPI_LIB32_CONDA_BACKUP=\" ) \n",
      "\n",
      "C:\\Users\\evanm\\OneDrive\\Desktop\\cs182RL>set MSMPI_BIN= \n",
      "\n",
      "C:\\Users\\evanm\\OneDrive\\Desktop\\cs182RL>set MSMPI_INC= \n",
      "\n",
      "Note: you may need to restart the kernel to use updated packages.\n",
      "C:\\Users\\evanm\\OneDrive\\Desktop\\cs182RL>set MSMPI_LIB64= \n",
      "\n",
      "C:\\Users\\evanm\\OneDrive\\Desktop\\cs182RL>set MSMPI_LIB32=\"\" \n",
      "\n",
      "Collecting https://github.com/openai/baselines/archive/9ee399f5b20cd70ac0a871927a6cf043b478193f.zip\n",
      "  Using cached https://github.com/openai/baselines/archive/9ee399f5b20cd70ac0a871927a6cf043b478193f.zip\n",
      "Collecting gym<0.16.0,>=0.15.4\n",
      "  Downloading gym-0.15.7.tar.gz (1.6 MB)\n",
      "Requirement already satisfied: scipy in c:\\users\\evanm\\anaconda3\\lib\\site-packages (from baselines==0.1.6) (1.5.2)\n",
      "Requirement already satisfied: tqdm in c:\\users\\evanm\\anaconda3\\lib\\site-packages (from baselines==0.1.6) (4.50.2)\n",
      "Requirement already satisfied: joblib in c:\\users\\evanm\\anaconda3\\lib\\site-packages (from baselines==0.1.6) (0.17.0)\n",
      "Requirement already satisfied: cloudpickle in c:\\users\\evanm\\anaconda3\\lib\\site-packages (from baselines==0.1.6) (1.6.0)\n",
      "Requirement already satisfied: click in c:\\users\\evanm\\anaconda3\\lib\\site-packages (from baselines==0.1.6) (7.1.2)\n",
      "Requirement already satisfied: opencv-python in c:\\users\\evanm\\anaconda3\\lib\\site-packages (from baselines==0.1.6) (4.5.1.48)\n",
      "Requirement already satisfied: numpy>=1.10.4 in c:\\users\\evanm\\anaconda3\\lib\\site-packages (from gym<0.16.0,>=0.15.4->baselines==0.1.6) (1.19.2)\n",
      "Requirement already satisfied: six in c:\\users\\evanm\\anaconda3\\lib\\site-packages (from gym<0.16.0,>=0.15.4->baselines==0.1.6) (1.15.0)\n",
      "Requirement already satisfied: pyglet<=1.5.0,>=1.4.0 in c:\\users\\evanm\\anaconda3\\lib\\site-packages (from gym<0.16.0,>=0.15.4->baselines==0.1.6) (1.5.0)\n",
      "Requirement already satisfied: future in c:\\users\\evanm\\anaconda3\\lib\\site-packages (from pyglet<=1.5.0,>=1.4.0->gym<0.16.0,>=0.15.4->baselines==0.1.6) (0.18.2)\n",
      "Building wheels for collected packages: baselines, gym\n",
      "  Building wheel for baselines (setup.py): started\n",
      "  Building wheel for baselines (setup.py): finished with status 'done'\n",
      "  Created wheel for baselines: filename=baselines-0.1.6-py3-none-any.whl size=220651 sha256=c567ee361139cad99b4b1b5f591b72367f6ff8ef980d8458017b2f74ee44f4ab\n",
      "  Stored in directory: C:\\Users\\evanm\\AppData\\Local\\Temp\\pip-ephem-wheel-cache-t4hmwxx0\\wheels\\6a\\ce\\41\\45fa35b2373f6d03e72bd801d48011e37432ec065e67a3ac57\n",
      "  Building wheel for gym (setup.py): started\n",
      "  Building wheel for gym (setup.py): finished with status 'done'\n",
      "  Created wheel for gym: filename=gym-0.15.7-py3-none-any.whl size=1648847 sha256=5068e16cf7672fbb5f074132f09ba8c8eca64f38e44c18ccafbe499cb33885e4\n",
      "  Stored in directory: c:\\users\\evanm\\appdata\\local\\pip\\cache\\wheels\\c7\\fc\\c9\\30abdb9ba1656a49f62658d3ec45d9bffdb4f0542802a6ad6e\n",
      "Successfully built baselines gym\n",
      "Installing collected packages: gym, baselines\n",
      "Successfully installed baselines-0.1.6 gym-0.15.7\n",
      "Note: you may need to restart the kernel to use updated packages.\n"
     ]
    },
    {
     "name": "stderr",
     "output_type": "stream",
     "text": [
      "ERROR: After October 2020 you may experience errors when installing or updating packages. This is because pip will change the way that it resolves dependency conflicts.\n",
      "\n",
      "We recommend you use --use-feature=2020-resolver to test your packages with the new resolver before it becomes the default.\n",
      "\n",
      "gym 0.15.7 requires cloudpickle~=1.2.0, but you'll have cloudpickle 1.6.0 which is incompatible.\n"
     ]
    },
    {
     "name": "stdout",
     "output_type": "stream",
     "text": [
      "Note: you may need to restart the kernel to use updated packages.\n"
     ]
    },
    {
     "name": "stderr",
     "output_type": "stream",
     "text": [
      "ERROR: train-procgen is not a valid editable requirement. It should either be a path to a local project or a VCS URL (beginning with svn+, git+, hg+, or bzr+).\n"
     ]
    }
   ],
   "source": [
    "%conda env update --name train-procgen --file train-procgen/environment.yml\n",
    "%conda activate train-procgen\n",
    "%pip install https://github.com/openai/baselines/archive/9ee399f5b20cd70ac0a871927a6cf043b478193f.zip\n",
    "%pip install -e train-procgen"
   ]
  },
  {
   "cell_type": "code",
   "execution_count": 5,
   "metadata": {},
   "outputs": [
    {
     "name": "stdout",
     "output_type": "stream",
     "text": [
      "Collecting procgen\n",
      "  Downloading procgen-0.10.4-cp38-cp38-win_amd64.whl (30.1 MB)\n",
      "Requirement already satisfied: filelock<4.0.0,>=3.0.0 in c:\\users\\evanm\\anaconda3\\lib\\site-packages (from procgen) (3.0.12)\n",
      "Requirement already satisfied: gym<1.0.0,>=0.15.0 in c:\\users\\evanm\\anaconda3\\lib\\site-packages (from procgen) (0.15.7)\n",
      "Collecting gym3<1.0.0,>=0.3.3\n",
      "  Downloading gym3-0.3.3-py3-none-any.whl (50 kB)\n",
      "Requirement already satisfied: numpy<2.0.0,>=1.17.0 in c:\\users\\evanm\\anaconda3\\lib\\site-packages (from procgen) (1.19.2)\n",
      "Collecting cloudpickle~=1.2.0\n",
      "  Using cached cloudpickle-1.2.2-py2.py3-none-any.whl (25 kB)\n",
      "Requirement already satisfied: pyglet<=1.5.0,>=1.4.0 in c:\\users\\evanm\\anaconda3\\lib\\site-packages (from gym<1.0.0,>=0.15.0->procgen) (1.5.0)\n",
      "Requirement already satisfied: six in c:\\users\\evanm\\anaconda3\\lib\\site-packages (from gym<1.0.0,>=0.15.0->procgen) (1.15.0)\n",
      "Requirement already satisfied: scipy in c:\\users\\evanm\\anaconda3\\lib\\site-packages (from gym<1.0.0,>=0.15.0->procgen) (1.5.2)\n",
      "Requirement already satisfied: cffi<2.0.0,>=1.13.0 in c:\\users\\evanm\\anaconda3\\lib\\site-packages (from gym3<1.0.0,>=0.3.3->procgen) (1.14.3)\n",
      "Collecting imageio-ffmpeg<0.4.0,>=0.3.0\n",
      "  Downloading imageio_ffmpeg-0.3.0-py3-none-win_amd64.whl (21.0 MB)\n",
      "Requirement already satisfied: imageio<3.0.0,>=2.6.0 in c:\\users\\evanm\\anaconda3\\lib\\site-packages (from gym3<1.0.0,>=0.3.3->procgen) (2.9.0)\n",
      "Collecting moderngl<6.0.0,>=5.5.4\n",
      "  Downloading moderngl-5.6.4-cp38-cp38-win_amd64.whl (139 kB)\n",
      "Collecting glfw<2.0.0,>=1.8.6\n",
      "  Downloading glfw-1.12.0-py2.py27.py3.py30.py31.py32.py33.py34.py35.py36.py37.py38-none-win_amd64.whl (491 kB)\n",
      "Requirement already satisfied: future in c:\\users\\evanm\\anaconda3\\lib\\site-packages (from pyglet<=1.5.0,>=1.4.0->gym<1.0.0,>=0.15.0->procgen) (0.18.2)\n",
      "Requirement already satisfied: pycparser in c:\\users\\evanm\\anaconda3\\lib\\site-packages (from cffi<2.0.0,>=1.13.0->gym3<1.0.0,>=0.3.3->procgen) (2.20)\n",
      "Requirement already satisfied: pillow in c:\\users\\evanm\\anaconda3\\lib\\site-packages (from imageio<3.0.0,>=2.6.0->gym3<1.0.0,>=0.3.3->procgen) (7.2.0)\n",
      "Collecting glcontext<3,>=2\n",
      "  Downloading glcontext-2.3.3-cp38-cp38-win_amd64.whl (12 kB)\n",
      "Installing collected packages: imageio-ffmpeg, glcontext, moderngl, glfw, gym3, procgen, cloudpickle\n",
      "  Attempting uninstall: glfw\n",
      "    Found existing installation: glfw 2.1.0\n",
      "    Uninstalling glfw-2.1.0:\n",
      "      Successfully uninstalled glfw-2.1.0\n",
      "  Attempting uninstall: cloudpickle\n",
      "    Found existing installation: cloudpickle 1.6.0\n",
      "    Uninstalling cloudpickle-1.6.0:\n",
      "      Successfully uninstalled cloudpickle-1.6.0\n",
      "Successfully installed cloudpickle-1.2.2 glcontext-2.3.3 glfw-1.12.0 gym3-0.3.3 imageio-ffmpeg-0.3.0 moderngl-5.6.4 procgen-0.10.4\n",
      "Note: you may need to restart the kernel to use updated packages.\n"
     ]
    },
    {
     "name": "stderr",
     "output_type": "stream",
     "text": [
      "ERROR: After October 2020 you may experience errors when installing or updating packages. This is because pip will change the way that it resolves dependency conflicts.\n",
      "\n",
      "We recommend you use --use-feature=2020-resolver to test your packages with the new resolver before it becomes the default.\n",
      "\n",
      "spyder 4.1.5 requires pyqt5<5.13; python_version >= \"3\", which is not installed.\n",
      "spyder 4.1.5 requires pyqtwebengine<5.13; python_version >= \"3\", which is not installed.\n",
      "distributed 2.30.1 requires cloudpickle>=1.5.0, but you'll have cloudpickle 1.2.2 which is incompatible.\n"
     ]
    }
   ],
   "source": [
    "%pip install procgen"
   ]
  },
  {
   "cell_type": "code",
   "execution_count": 7,
   "metadata": {},
   "outputs": [
    {
     "name": "stdout",
     "output_type": "stream",
     "text": [
      "Collecting mpi4py\n",
      "  Using cached mpi4py-3.0.3-cp38-cp38-win_amd64.whl (440 kB)\n",
      "Installing collected packages: mpi4py\n",
      "Successfully installed mpi4py-3.0.3\n",
      "Note: you may need to restart the kernel to use updated packages.\n"
     ]
    }
   ],
   "source": [
    "pip install mpi4py"
   ]
  },
  {
   "cell_type": "code",
   "execution_count": 9,
   "metadata": {
    "scrolled": false
   },
   "outputs": [
    {
     "ename": "ImportError",
     "evalue": "DLL load failed while importing MPI: The specified module could not be found.",
     "output_type": "error",
     "traceback": [
      "\u001b[1;31m---------------------------------------------------------------------------\u001b[0m",
      "\u001b[1;31mImportError\u001b[0m                               Traceback (most recent call last)",
      "\u001b[1;32m<ipython-input-9-043960d575ef>\u001b[0m in \u001b[0;36m<module>\u001b[1;34m\u001b[0m\n\u001b[1;32m----> 1\u001b[1;33m \u001b[1;32mfrom\u001b[0m \u001b[0mtrain_procgen\u001b[0m\u001b[1;33m.\u001b[0m\u001b[0mtrain\u001b[0m \u001b[1;32mimport\u001b[0m \u001b[0mtrain_fn\u001b[0m\u001b[1;33m\u001b[0m\u001b[1;33m\u001b[0m\u001b[0m\n\u001b[0m",
      "\u001b[1;32m~\\OneDrive\\Desktop\\cs182RL\\train_procgen\\__init__.py\u001b[0m in \u001b[0;36m<module>\u001b[1;34m\u001b[0m\n\u001b[1;32m----> 1\u001b[1;33m \u001b[1;32mfrom\u001b[0m \u001b[1;33m.\u001b[0m\u001b[0mtrain\u001b[0m \u001b[1;32mimport\u001b[0m \u001b[0mtrain_fn\u001b[0m\u001b[1;33m\u001b[0m\u001b[1;33m\u001b[0m\u001b[0m\n\u001b[0m",
      "\u001b[1;32m~\\OneDrive\\Desktop\\cs182RL\\train_procgen\\train.py\u001b[0m in \u001b[0;36m<module>\u001b[1;34m\u001b[0m\n\u001b[0;32m     11\u001b[0m )\n\u001b[0;32m     12\u001b[0m \u001b[1;32mfrom\u001b[0m \u001b[0mbaselines\u001b[0m \u001b[1;32mimport\u001b[0m \u001b[0mlogger\u001b[0m\u001b[1;33m\u001b[0m\u001b[1;33m\u001b[0m\u001b[0m\n\u001b[1;32m---> 13\u001b[1;33m \u001b[1;32mfrom\u001b[0m \u001b[0mmpi4py\u001b[0m \u001b[1;32mimport\u001b[0m \u001b[0mMPI\u001b[0m\u001b[1;33m\u001b[0m\u001b[1;33m\u001b[0m\u001b[0m\n\u001b[0m\u001b[0;32m     14\u001b[0m \u001b[1;32mimport\u001b[0m \u001b[0margparse\u001b[0m\u001b[1;33m\u001b[0m\u001b[1;33m\u001b[0m\u001b[0m\n\u001b[0;32m     15\u001b[0m \u001b[1;33m\u001b[0m\u001b[0m\n",
      "\u001b[1;31mImportError\u001b[0m: DLL load failed while importing MPI: The specified module could not be found."
     ]
    }
   ],
   "source": [
    "from train_procgen.train import train_fn"
   ]
  },
  {
   "cell_type": "code",
   "execution_count": null,
   "metadata": {},
   "outputs": [],
   "source": []
  }
 ],
 "metadata": {
  "kernelspec": {
   "display_name": "Python 3",
   "language": "python",
   "name": "python3"
  },
  "language_info": {
   "codemirror_mode": {
    "name": "ipython",
    "version": 3
   },
   "file_extension": ".py",
   "mimetype": "text/x-python",
   "name": "python",
   "nbconvert_exporter": "python",
   "pygments_lexer": "ipython3",
   "version": "3.8.5"
  }
 },
 "nbformat": 4,
 "nbformat_minor": 4
}
